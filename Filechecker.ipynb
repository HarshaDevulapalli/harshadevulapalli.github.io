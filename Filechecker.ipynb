{
 "cells": [
  {
   "cell_type": "code",
   "execution_count": 2,
   "metadata": {},
   "outputs": [],
   "source": [
    "kinds_of_workers=[\"ALLWORKERS\",\"REGULARWORKERS\",\"SEASONALWORKERS\"]"
   ]
  },
  {
   "cell_type": "code",
   "execution_count": 31,
   "metadata": {},
   "outputs": [],
   "source": [
    "kinds_of_industries=[\"FARM\",\"MANUFACTURING\",\"TRADE\",\"CONSTRUCTION\",\"SERVICES\",\"NON_FARM\"]"
   ]
  },
  {
   "cell_type": "code",
   "execution_count": 1,
   "metadata": {},
   "outputs": [],
   "source": [
    "kinds_of_detailed=[\"CULTIVATORS\",\"FORESTRY\",\"LABOURERS\",\"MINING\",\"MANUFACTURING (HOUSEHOLD)\",\"MANUFACTURING (NON HOUSEHOLD)\",\"UTILITIES\",\"CONSTRUCTION\",\"TRADE (HOUSEHOLD)\",\"TRADE (NON HOUSEHOLD)\",\"TRANSPORTATION\",\"HOSPITALITY\",\"IT (HOUSEHOLD)\",\"IT (NON HOUSEHOLD)\",\"FINANCE\",\"ADMINISTRATION AND DEFENCE\",\"EDUCATION AND HEALTH\",\"OTHER SERVICES (HOUSEHOLD)\",\"OTHER SERVICES (NON HOUSEHOLD)\"]"
   ]
  },
  {
   "cell_type": "code",
   "execution_count": 3,
   "metadata": {},
   "outputs": [],
   "source": [
    "kinds_of_ages=[\"CHILDWORKERS\",\"YOUTHANDADULTWORKERS\",\"ADULTWORKERS\",\"SENIORWORKERS\",\"ALLAGEWORKERS\"]"
   ]
  },
  {
   "cell_type": "code",
   "execution_count": 4,
   "metadata": {},
   "outputs": [],
   "source": [
    "kinds_of_denominators=[\"POPULATION\",\"LABOUR\",\"WORKERS\"]"
   ]
  },
  {
   "cell_type": "code",
   "execution_count": 5,
   "metadata": {},
   "outputs": [],
   "source": [
    "kinds_of_gender=[\"ALL\",\"MEN\",\"WOMEN\"]"
   ]
  },
  {
   "cell_type": "code",
   "execution_count": 6,
   "metadata": {},
   "outputs": [],
   "source": [
    "kinds_of_data=[\"WORKERSBYINDUSTRY\"]"
   ]
  },
  {
   "cell_type": "code",
   "execution_count": null,
   "metadata": {},
   "outputs": [],
   "source": []
  },
  {
   "cell_type": "code",
   "execution_count": 32,
   "metadata": {},
   "outputs": [],
   "source": [
    "allfiles=[]\n",
    "for data in kinds_of_data:\n",
    "    for worker in kinds_of_workers:\n",
    "        for industry in kinds_of_industries:\n",
    "            for age in kinds_of_ages:\n",
    "                for denominator in kinds_of_denominators:\n",
    "                    for gender in kinds_of_gender:\n",
    "                        allfiles.append(data+worker+industry+age+denominator+gender)"
   ]
  },
  {
   "cell_type": "code",
   "execution_count": 33,
   "metadata": {},
   "outputs": [
    {
     "data": {
      "text/plain": [
       "810"
      ]
     },
     "execution_count": 33,
     "metadata": {},
     "output_type": "execute_result"
    }
   ],
   "source": [
    "len(allfiles)"
   ]
  },
  {
   "cell_type": "code",
   "execution_count": 34,
   "metadata": {},
   "outputs": [
    {
     "data": {
      "text/plain": [
       "'C:\\\\Users\\\\D110489\\\\Desktop\\\\harshadevulapalli.github.io'"
      ]
     },
     "execution_count": 34,
     "metadata": {},
     "output_type": "execute_result"
    }
   ],
   "source": [
    "pwd"
   ]
  },
  {
   "cell_type": "code",
   "execution_count": 35,
   "metadata": {},
   "outputs": [],
   "source": [
    "from os import listdir\n",
    "from os.path import isfile, join\n",
    "onlyfiles = [f for f in listdir(\"C:\\\\Users\\\\D110489\\\\Desktop\\\\harshadevulapalli.github.io\\\\census-main-workers\") if isfile(join(\"C:\\\\Users\\\\D110489\\\\Desktop\\\\harshadevulapalli.github.io\\\\census-main-workers\", f))]"
   ]
  },
  {
   "cell_type": "code",
   "execution_count": 36,
   "metadata": {},
   "outputs": [
    {
     "data": {
      "text/plain": [
       "11436"
      ]
     },
     "execution_count": 36,
     "metadata": {},
     "output_type": "execute_result"
    }
   ],
   "source": [
    "len(onlyfiles)"
   ]
  },
  {
   "cell_type": "code",
   "execution_count": 37,
   "metadata": {
    "scrolled": true
   },
   "outputs": [],
   "source": [
    "filesthathaventbeendownloaded=[]\n",
    "for file in allfiles:\n",
    "    text_file=file+\"city.txt\"\n",
    "    json_file=file+\".json\"\n",
    "    if text_file in onlyfiles:\n",
    "        continue\n",
    "    else:\n",
    "        print(text_file,\"is NOT in the directory\")\n",
    "        filesthathaventbeendownloaded.append(text_file)\n",
    "        \n",
    "    if json_file in onlyfiles:\n",
    "        continue\n",
    "    else:\n",
    "        print(json_file,\"is NOT in the directory\")\n",
    "        filesthathaventbeendownloaded.append(json_file)"
   ]
  },
  {
   "cell_type": "code",
   "execution_count": 38,
   "metadata": {},
   "outputs": [
    {
     "data": {
      "text/plain": [
       "0"
      ]
     },
     "execution_count": 38,
     "metadata": {},
     "output_type": "execute_result"
    }
   ],
   "source": [
    "len(filesthathaventbeendownloaded)"
   ]
  },
  {
   "cell_type": "code",
   "execution_count": null,
   "metadata": {},
   "outputs": [],
   "source": []
  }
 ],
 "metadata": {
  "kernelspec": {
   "display_name": "Python 3",
   "language": "python",
   "name": "python3"
  },
  "language_info": {
   "codemirror_mode": {
    "name": "ipython",
    "version": 3
   },
   "file_extension": ".py",
   "mimetype": "text/x-python",
   "name": "python",
   "nbconvert_exporter": "python",
   "pygments_lexer": "ipython3",
   "version": "3.7.1rc1"
  }
 },
 "nbformat": 4,
 "nbformat_minor": 2
}
